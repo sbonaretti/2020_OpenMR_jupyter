{
 "cells": [
  {
   "cell_type": "markdown",
   "metadata": {},
   "source": [
    "# 2. Simple ITK\n",
    "#### [Python and Jupyter Notebook for Medical Image Analysis](https://github.com/sbonaretti/2020_OpenMR_jupyter)\n",
    "#### [OpenMRBenelux](https://openmrbenelux.github.io/) Workshop - January 22, 2020 - Nijmegen (The Netherlands)"
   ]
  },
  {
   "cell_type": "markdown",
   "metadata": {},
   "source": [
    "---"
   ]
  },
  {
   "cell_type": "markdown",
   "metadata": {},
   "source": [
    "We have three images: \n",
    "- A dicom stack of a knee (`knee`)\n",
    "- A mask of femoral knee cartilage computed with our latest segmentation algorithm (`mask.mha`) \n",
    "- A ground truth segmentation (`mask_gt.mha`). \n",
    "\n",
    "We want:\n",
    "1. Visually evaluate the quality of the segmentation\n",
    "2. Compute the difference between the two segmentations in terms of overlapping voxels\n",
    "2. Compute the difference between the cartilage volumes calculated from the two masks (in [mm])\n",
    "\n",
    "Through this task we will learn how to: \n",
    "- Read a dicom stack  \n",
    "- Read a metafile image \n",
    "- Print out image characteristics\n",
    "- Visualize an image\n",
    "- Use a filter (e.g Dice Similarity Coefficient)\n",
    "- Calculate mask volume"
   ]
  },
  {
   "cell_type": "markdown",
   "metadata": {},
   "source": [
    "Imports:"
   ]
  },
  {
   "cell_type": "code",
   "execution_count": 1,
   "metadata": {},
   "outputs": [],
   "source": [
    "import numpy as np\n",
    "import matplotlib.pyplot as plt\n",
    "import SimpleITK as sitk\n",
    "\n",
    "from ipywidgets import * # for display\n",
    "from ipywidgets import HBox, VBox\n",
    "from ipywidgets import interactive\n",
    "from ipywidgets import Layout\n",
    "from ipywidgets import widgets as widgets"
   ]
  },
  {
   "cell_type": "markdown",
   "metadata": {},
   "source": [
    "Functions:"
   ]
  },
  {
   "cell_type": "code",
   "execution_count": 2,
   "metadata": {},
   "outputs": [],
   "source": [
    "def show_image_slice(slice):\n",
    "    \n",
    "    \"\"\"\n",
    "    Show one slice of an image\n",
    "    Input: 2D slice in SimpleITK format\n",
    "    \"\"\"\n",
    "    \n",
    "    # figure size in notebook\n",
    "    plt.rcParams['figure.figsize'] = [5, 5]\n",
    "\n",
    "    # -> Task 1: Note the function GetArrayViewFromImage. What does it do? \n",
    "    np_slice = sitk.GetArrayViewFromImage(slice)     \n",
    "    \n",
    "    # flip the slice upside-down for visualization\n",
    "    np_slice = np.flipud(np_slice)\n",
    "    \n",
    "    # plot with matplotlib\n",
    "    plt.imshow(np_slice, 'gray', interpolation=None, origin='lower')\n",
    "    plt.axis('off')\n",
    "    plt.show()"
   ]
  },
  {
   "cell_type": "code",
   "execution_count": 3,
   "metadata": {},
   "outputs": [],
   "source": [
    "def show_image_interactive (img, mask=None):  \n",
    "    \n",
    "    \"\"\"\n",
    "    Show image using slider \n",
    "    Inputs: \n",
    "    - 3D image in SimpleITK format\n",
    "    - 3D mask in SimpleITK format (optional)\n",
    "    \"\"\"  \n",
    "    \n",
    "    # convert image to numpy array for compatibility with matplotlib\n",
    "    np_img  = sitk.GetArrayViewFromImage(img)\n",
    "    if mask != None:\n",
    "        np_mask = sitk.GetArrayViewFromImage(mask)\n",
    "        \n",
    "    \n",
    "    # variables \n",
    "    n_of_slices = np_img.shape[0]\n",
    "    first_slice_viz = 30\n",
    "    \n",
    "        \n",
    "    # function for slider\n",
    "    def view_image(slider):\n",
    "        \n",
    "        # get slice of image\n",
    "        slice_np_img = np_img[slider,:,:] \n",
    "        \n",
    "        # flip the slice upside-down for visualization\n",
    "        slice_np_img = np.flipud(slice_np_img)\n",
    "        \n",
    "        if mask != None: \n",
    "            # get slice of ,asl\n",
    "            slice_np_mask = np_mask[slider,:,:]\n",
    "            # flip the slice upside-down for visualization\n",
    "            slice_np_mask = np.flipud(slice_np_mask)\n",
    "            # mask for transparency\n",
    "            slice_np_mask = np.ma.masked_where(slice_np_mask == 0, slice_np_mask)\n",
    "\n",
    "        # show both\n",
    "        plt.imshow(slice_np_img, cmap=plt.cm.gray, origin='lower',interpolation=None) \n",
    "        if mask != None: \n",
    "            plt.imshow(slice_np_mask, 'hsv' , interpolation=None, origin='lower', alpha=1, vmin=0, vmax=100) \n",
    "        plt.axis('off')\n",
    "\n",
    "        \n",
    "    # link sliders and its function\n",
    "    slider_image = interactive(view_image, \n",
    "                         slider = widgets.IntSlider(  min     = 0, \n",
    "                                                      max     = n_of_slices, \n",
    "                                                      value   = first_slice_viz,\n",
    "                                                      step    = 1,\n",
    "                                                      layout  = Layout(width='180px'),\n",
    "                                                      readout = False,\n",
    "                                                      continuous_update = False, # avoids intermediate image display,\n",
    "                                                      description       = 'Slice n.'))\n",
    "    # show figures before start interacting\n",
    "    slider_image.update()  \n",
    "    \n",
    "    # slice number scrolling\n",
    "    text = widgets.BoundedIntText( min    = 0, \n",
    "                                   max    = n_of_slices, \n",
    "                                   value  = first_slice_viz,\n",
    "                                   step   = 1,\n",
    "                                   layout = Layout(width='50px'),\n",
    "                                   continuous_update = False, \n",
    "                                   description       = \"\") # BoundedIntText to avoid that displayed text goes outside of the range)\n",
    "    \n",
    "    # link slider and text \n",
    "    widgets.jslink((slider_image.children[:-1][0], 'value'), (text, 'value'))\n",
    "    \n",
    "    # layout\n",
    "    slider_box   = HBox(slider_image.children[:-1])\n",
    "    widget_box   = HBox([slider_box, text])\n",
    "    whole_box    = VBox([widget_box, slider_image.children[-1] ]) \n",
    "        \n",
    "    return whole_box"
   ]
  },
  {
   "cell_type": "markdown",
   "metadata": {},
   "source": [
    "---"
   ]
  },
  {
   "cell_type": "markdown",
   "metadata": {},
   "source": [
    "## 1. Visually evaluate the quality of the segmentations"
   ]
  },
  {
   "cell_type": "markdown",
   "metadata": {},
   "source": [
    "### Read the knee stack (dicom)"
   ]
  },
  {
   "cell_type": "markdown",
   "metadata": {},
   "source": [
    "Variable:"
   ]
  },
  {
   "cell_type": "code",
   "execution_count": 4,
   "metadata": {},
   "outputs": [],
   "source": [
    "image_folder = \"./data/knee\" "
   ]
  },
  {
   "cell_type": "markdown",
   "metadata": {},
   "source": [
    "-> Read the dicom series: "
   ]
  },
  {
   "cell_type": "code",
   "execution_count": 5,
   "metadata": {},
   "outputs": [],
   "source": [
    "reader      = sitk.ImageSeriesReader()\n",
    "dicom_names = reader.GetGDCMSeriesFileNames( image_folder )  # -> Task 1: Add folder name between the brackets\n",
    "reader.SetFileNames(dicom_names)\n",
    "img         = reader.Execute()"
   ]
  },
  {
   "cell_type": "markdown",
   "metadata": {},
   "source": [
    "-> Print image characteristics:"
   ]
  },
  {
   "cell_type": "code",
   "execution_count": 6,
   "metadata": {},
   "outputs": [
    {
     "name": "stdout",
     "output_type": "stream",
     "text": [
      "Origin : (-4.937600135803223, -57.961299896240234, 86.4000015258789)\n",
      "Spacing: (0.3125, 0.3125, 1.5)\n",
      "Size   : (512, 512, 68)\n"
     ]
    }
   ],
   "source": [
    "print(\"Origin : \" + str(img.GetOrigin()))    \n",
    "print(\"Spacing: \" + str(img.GetSpacing()))\n",
    "print(\"Size   : \" + str(img.GetSize()  ))      # -> Task 1: Get image origin using GetSize()"
   ]
  },
  {
   "cell_type": "markdown",
   "metadata": {},
   "source": [
    "Visualize one image slice:"
   ]
  },
  {
   "cell_type": "code",
   "execution_count": 7,
   "metadata": {},
   "outputs": [
    {
     "data": {
      "image/png": "[encoded data removed]",
      "text/plain": [
       "<Figure size 360x360 with 1 Axes>"
      ]
     },
     "metadata": {
      "needs_background": "light"
     },
     "output_type": "display_data"
    }
   ],
   "source": [
    "slice_id = 30\n",
    "slice = img[:,:,slice_id]\n",
    "show_image_slice (slice)  # Task 1: Have a look at the function show_image_slice"
   ]
  },
  {
   "cell_type": "markdown",
   "metadata": {},
   "source": [
    "Browse the 3D image:"
   ]
  },
  {
   "cell_type": "code",
   "execution_count": 8,
   "metadata": {},
   "outputs": [
    {
     "data": {
      "application/vnd.jupyter.widget-view+json": {
       "model_id": "c2e8b401780041868bf90d4d3362dc7d",
       "version_major": 2,
       "version_minor": 0
      },
      "text/plain": [
       "VBox(children=(HBox(children=(HBox(children=(IntSlider(value=30, continuous_update=False, description='Slice n…"
      ]
     },
     "metadata": {},
     "output_type": "display_data"
    }
   ],
   "source": [
    "show_image_interactive(img)"
   ]
  },
  {
   "cell_type": "markdown",
   "metadata": {},
   "source": [
    "### Read `mask.mha`"
   ]
  },
  {
   "cell_type": "markdown",
   "metadata": {},
   "source": [
    "Read the metafile:"
   ]
  },
  {
   "cell_type": "code",
   "execution_count": 9,
   "metadata": {},
   "outputs": [],
   "source": [
    "mask = sitk.ReadImage(\"./data/mask.mha\")"
   ]
  },
  {
   "cell_type": "markdown",
   "metadata": {},
   "source": [
    "Browse the 3D image and the mask:"
   ]
  },
  {
   "cell_type": "code",
   "execution_count": 10,
   "metadata": {},
   "outputs": [
    {
     "data": {
      "application/vnd.jupyter.widget-view+json": {
       "model_id": "6c2d03503f424053a4f536208945b0e1",
       "version_major": 2,
       "version_minor": 0
      },
      "text/plain": [
       "VBox(children=(HBox(children=(HBox(children=(IntSlider(value=30, continuous_update=False, description='Slice n…"
      ]
     },
     "metadata": {},
     "output_type": "display_data"
    }
   ],
   "source": [
    "show_image_interactive(img, mask)"
   ]
  },
  {
   "cell_type": "markdown",
   "metadata": {},
   "source": [
    "### Read `mask_gt.mha`"
   ]
  },
  {
   "cell_type": "markdown",
   "metadata": {},
   "source": [
    "-> Read the metafile:"
   ]
  },
  {
   "cell_type": "code",
   "execution_count": 11,
   "metadata": {},
   "outputs": [],
   "source": [
    "mask_gt = sitk.ReadImage(\"./data/mask_gt.mha\")   # -> Task 1: Write the function to read the ground truth mask "
   ]
  },
  {
   "cell_type": "markdown",
   "metadata": {},
   "source": [
    "-> Browse the 3D image and the mask:"
   ]
  },
  {
   "cell_type": "code",
   "execution_count": 12,
   "metadata": {},
   "outputs": [
    {
     "data": {
      "application/vnd.jupyter.widget-view+json": {
       "model_id": "2563e711de8a424986f8cbdb86bda705",
       "version_major": 2,
       "version_minor": 0
      },
      "text/plain": [
       "VBox(children=(HBox(children=(HBox(children=(IntSlider(value=30, continuous_update=False, description='Slice n…"
      ]
     },
     "metadata": {},
     "output_type": "display_data"
    }
   ],
   "source": [
    "show_image_interactive(img, mask_gt)             # -> Task 1: Write the function to browse the image with the ground truth mask "
   ]
  },
  {
   "cell_type": "markdown",
   "metadata": {},
   "source": [
    "## 2. Compute the difference between the two segmentations in terms of overlapping voxels"
   ]
  },
  {
   "cell_type": "markdown",
   "metadata": {},
   "source": [
    "-> We need to calculate the Dice Similarity Coefficient"
   ]
  },
  {
   "cell_type": "code",
   "execution_count": 13,
   "metadata": {},
   "outputs": [
    {
     "name": "stdout",
     "output_type": "stream",
     "text": [
      "The Dice Similarity Coefficient is :0.99\n"
     ]
    }
   ],
   "source": [
    "# Declare the filter \n",
    "filter     = sitk.LabelOverlapMeasuresImageFilter()\n",
    "\n",
    "# Execute the filter \n",
    "filter.Execute( mask, mask_gt ) # Task 1: What are the inputs?\n",
    "\n",
    "# Get the DSC and print it out\n",
    "dice_coeff = filter.GetDiceCoefficient()\n",
    "print (\"The Dice Similarity Coefficient is :\" + \"{:.2f}\".format(dice_coeff))"
   ]
  },
  {
   "cell_type": "markdown",
   "metadata": {},
   "source": [
    "## 3. Computer the difference between the cartilage volumes calculated from the two masks (in [mm])"
   ]
  },
  {
   "cell_type": "markdown",
   "metadata": {},
   "source": [
    "-> Calculate volume for `mask.mha`"
   ]
  },
  {
   "cell_type": "code",
   "execution_count": 14,
   "metadata": {},
   "outputs": [
    {
     "name": "stdout",
     "output_type": "stream",
     "text": [
      "The volume is: 11582.23 [mm]\n"
     ]
    }
   ],
   "source": [
    "# sitk to numpy\n",
    "mask_py = sitk.GetArrayFromImage(mask)\n",
    "\n",
    "# get number of white voxels\n",
    "n_of_voxels = np.count_nonzero(mask_py)\n",
    "\n",
    "# calculate volume in voxels\n",
    "volume_vx = n_of_voxels\n",
    "\n",
    "# calculate volume in mm \n",
    "volume_mm = volume_vx * mask.GetSpacing()[0] * mask.GetSpacing()[1] * mask.GetSpacing()[2]            # -> Task 1: calculate volume in mm given volume in voxels\n",
    "\n",
    "# print out volume\n",
    "print (\"The volume is: \" + \"{:.2f}\".format(volume_mm) + \" [mm]\")"
   ]
  },
  {
   "cell_type": "markdown",
   "metadata": {},
   "source": [
    "-> Calculate volume for mask_gt.mha"
   ]
  },
  {
   "cell_type": "code",
   "execution_count": 15,
   "metadata": {},
   "outputs": [
    {
     "name": "stdout",
     "output_type": "stream",
     "text": [
      "The volume is: 11729.59 [mm]\n"
     ]
    }
   ],
   "source": [
    "# sitk to numpy\n",
    "mask_gt_py = sitk.GetArrayFromImage(mask_gt)\n",
    "\n",
    "# get number of white voxels\n",
    "n_of_voxels = np.count_nonzero(mask_gt_py)\n",
    "\n",
    "# calculate volume in voxels\n",
    "volume_vx = n_of_voxels\n",
    "\n",
    "# calculate volume in mm \n",
    "volume_mm =  volume_vx * mask_gt.GetSpacing()[0] * mask_gt.GetSpacing()[1] * mask_gt.GetSpacing()[2]              # -> Task 1: calculate volume in mm given volume in voxels (same as above)\n",
    "\n",
    "# print out volume\n",
    "print (\"The volume is: \" + \"{:.2f}\".format(volume_mm) + \" [mm]\")"
   ]
  },
  {
   "cell_type": "markdown",
   "metadata": {},
   "source": [
    "-> Alternative way to avoid rewriting the same commands?"
   ]
  },
  {
   "cell_type": "code",
   "execution_count": 16,
   "metadata": {},
   "outputs": [],
   "source": [
    "def calculate_volume(mask): \n",
    "    \n",
    "    \"\"\"\n",
    "    Function to calculate cartilage volume\n",
    "    It calculates the number of mask voxels and then multiply them by image spacing\n",
    "    Input: \n",
    "    - mask: binary mask in SimpleITK \n",
    "    Output:\n",
    "    - volume_mm: float\n",
    "    \"\"\"\n",
    "    \n",
    "    # write function here\n",
    "    mask_gt_py = sitk.GetArrayFromImage(mask)\n",
    "\n",
    "    # get number of white voxels\n",
    "    n_of_voxels = np.count_nonzero(mask_gt_py)\n",
    "\n",
    "    # calculate volume in voxels\n",
    "    volume_vx = n_of_voxels\n",
    "\n",
    "    # calculate volume in mm \n",
    "    volume_mm =  volume_vx * mask.GetSpacing()[0] * mask.GetSpacing()[1] * mask.GetSpacing()[2]             # -> Task 1: calculate volume in mm given volume in voxels (same as above)\n",
    "\n",
    "    # print out volume\n",
    "    print (\"The volume is: \" + \"{:.2f}\".format(volume_mm) + \" [mm]\")\n",
    "    \n",
    "    return volume_mm\n"
   ]
  },
  {
   "cell_type": "markdown",
   "metadata": {},
   "source": [
    "Calculate volumes using function:"
   ]
  },
  {
   "cell_type": "code",
   "execution_count": 21,
   "metadata": {},
   "outputs": [
    {
     "name": "stdout",
     "output_type": "stream",
     "text": [
      "The volume is: 11582.23 [mm]\n"
     ]
    }
   ],
   "source": [
    "vol    = calculate_volume(mask)"
   ]
  },
  {
   "cell_type": "code",
   "execution_count": 22,
   "metadata": {},
   "outputs": [
    {
     "name": "stdout",
     "output_type": "stream",
     "text": [
      "The volume is: 11729.59 [mm]\n"
     ]
    }
   ],
   "source": [
    "vol_gt = calculate_volume(mask_gt)"
   ]
  },
  {
   "cell_type": "markdown",
   "metadata": {},
   "source": [
    "-> Calculate volume difference:"
   ]
  },
  {
   "cell_type": "code",
   "execution_count": 23,
   "metadata": {},
   "outputs": [],
   "source": [
    "diff =   vol - vol_gt      # -> Task 1: calculate volume difference"
   ]
  },
  {
   "cell_type": "code",
   "execution_count": 24,
   "metadata": {},
   "outputs": [
    {
     "name": "stdout",
     "output_type": "stream",
     "text": [
      "The volume difference is: -147.36 [mm]\n"
     ]
    }
   ],
   "source": [
    "print (\"The volume difference is: \" + \"{:.2f}\".format(diff) + \" [mm]\")"
   ]
  },
  {
   "cell_type": "markdown",
   "metadata": {},
   "source": [
    "---"
   ]
  },
  {
   "cell_type": "markdown",
   "metadata": {},
   "source": [
    "## Dependencies"
   ]
  },
  {
   "cell_type": "code",
   "execution_count": 25,
   "metadata": {},
   "outputs": [
    {
     "name": "stdout",
     "output_type": "stream",
     "text": [
      "CPython 3.7.4\n",
      "IPython 7.8.0\n",
      "\n",
      "numpy 1.17.2\n",
      "matplotlib 3.1.1\n",
      "SimpleITK 1.2.4\n",
      "\n",
      "compiler   : Clang 4.0.1 (tags/RELEASE_401/final)\n",
      "system     : Darwin\n",
      "release    : 19.2.0\n",
      "machine    : x86_64\n",
      "processor  : i386\n",
      "CPU cores  : 4\n",
      "interpreter: 64bit\n",
      "last updated: Wed Jan 22 2020 15:14:21 CET\n"
     ]
    }
   ],
   "source": [
    "%load_ext watermark\n",
    "%watermark -v -m -p numpy,matplotlib,SimpleITK\n",
    "%watermark -u -n -t -z "
   ]
  }
 ],
 "metadata": {
  "kernelspec": {
   "display_name": "Python 3",
   "language": "python",
   "name": "python3"
  },
  "language_info": {
   "codemirror_mode": {
    "name": "ipython",
    "version": 3
   },
   "file_extension": ".py",
   "mimetype": "text/x-python",
   "name": "python",
   "nbconvert_exporter": "python",
   "pygments_lexer": "ipython3",
   "version": "3.7.4"
  },
  "widgets": {
   "application/vnd.jupyter.widget-state+json": {
    "state": {},
    "version_major": 2,
    "version_minor": 0
   }
  }
 },
 "nbformat": 4,
 "nbformat_minor": 4
}
